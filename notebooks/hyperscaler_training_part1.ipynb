{
 "cells": [
  {
   "cell_type": "markdown",
   "metadata": {},
   "source": [
    "# SageMaker Hyperscaler Training for Legal Reasoning Model (Part 1)\n",
    "\n",
    "This notebook demonstrates how to train the Legal Reasoning Model using SageMaker Hyperscaler on ml.g5.8xlarge instances for optimal price-performance.\n",
    "\n",
    "## Part 1: Setup and Configuration"
   ]
  },
  {
   "cell_type": "markdown",
   "metadata": {},
   "source": [
    "### Setup\n",
    "\n",
    "First, let's set up the environment and import necessary libraries."
   ]
  },
  {
   "cell_type": "code",
   "execution_count": null,
   "metadata": {},
   "outputs": [],
   "source": [
    "import os\n",
    "import json\n",
    "import yaml\n",
    "import boto3\n",
    "import sagemaker\n",
    "from sagemaker.huggingface import HuggingFace\n",
    "import pandas as pd\n",
    "import matplotlib.pyplot as plt\n",
    "import seaborn as sns\n",
    "\n",
    "# Set plot style\n",
    "plt.style.use('ggplot')\n",
    "sns.set_theme(style=\"whitegrid\")"
   ]
  },
  {
   "cell_type": "markdown",
   "metadata": {},
   "source": [
    "### Configure AWS and SageMaker\n",
    "\n",
    "Set up AWS credentials and SageMaker session."
   ]
  },
  {
   "cell_type": "code",
   "execution_count": null,
   "metadata": {},
   "outputs": [],
   "source": [
    "# Set AWS region\n",
    "region = 'us-east-1'  # Change to your preferred region\n",
    "\n",
    "# Create SageMaker session\n",
    "boto_session = boto3.Session(region_name=region)\n",
    "sagemaker_session = sagemaker.Session(boto_session=boto_session)\n",
    "\n",
    "# Get SageMaker execution role\n",
    "role = sagemaker.get_execution_role()\n",
    "\n",
    "# Set S3 bucket and prefix\n",
    "bucket = sagemaker_session.default_bucket()\n",
    "prefix = 'legal-reasoning-model'\n",
    "\n",
    "print(f\"SageMaker Role ARN: {role}\")\n",
    "print(f\"S3 Bucket: {bucket}\")\n",
    "print(f\"S3 Prefix: {prefix}\")"
   ]
  },
  {
   "cell_type": "markdown",
   "metadata": {},
   "source": [
    "### Load Configuration\n",
    "\n",
    "Load the hyperscaler configuration from YAML file."
   ]
  },
  {
   "cell_type": "code",
   "execution_count": null,
   "metadata": {},
   "outputs": [],
   "source": [
    "# Load configuration\n",
    "config_path = \"../configs/hyperscaler_config.yaml\"\n",
    "\n",
    "with open(config_path, 'r') as f:\n",
    "    config = yaml.safe_load(f)\n",
    "\n",
    "# Update config with our session values\n",
    "config['aws']['region'] = region\n",
    "config['aws']['s3_bucket'] = bucket\n",
    "\n",
    "# Display configuration\n",
    "print(\"Model Configuration:\")\n",
    "print(json.dumps(config['model'], indent=2))\n",
    "\n",
    "print(\"\\nTraining Configuration:\")\n",
    "print(json.dumps(config['training'], indent=2))\n",
    "\n",
    "print(\"\\nHyperscaler Configuration:\")\n",
    "print(json.dumps(config['hyperscaler'], indent=2))"
   ]
  },
  {
   "cell_type": "markdown",
   "metadata": {},
   "source": [
    "### Prepare Training Data\n",
    "\n",
    "Prepare and upload the training data to S3."
   ]
  },
  {
   "cell_type": "code",
   "execution_count": null,
   "metadata": {},
   "outputs": [],
   "source": [
    "# Define paths\n",
    "input_file = \"../data/german/processed/all_examples.jsonl\"\n",
    "output_dir = \"../data/hyperscaler\"\n",
    "language = config['model']['language']\n",
    "\n",
    "# Check if input file exists\n",
    "if not os.path.exists(input_file):\n",
    "    print(f\"Input file not found: {input_file}\")\n",
    "    print(\"Please run the data processing script first.\")\n",
    "else:\n",
    "    print(f\"Input file found: {input_file}\")\n",
    "    \n",
    "    # Create output directory\n",
    "    os.makedirs(output_dir, exist_ok=True)\n",
    "    print(f\"Output directory: {output_dir}\")\n",
    "    \n",
    "    # We'll use the prepare_data_for_hyperscaler.py script\n",
    "    # For demonstration, we'll show the command here\n",
    "    cmd = f\"\"\"python ../scripts/prepare_data_for_hyperscaler.py \\\n",
    "    --input-file {input_file} \\\n",
    "    --output-dir {output_dir} \\\n",
    "    --s3-bucket {bucket} \\\n",
    "    --s3-prefix {prefix}/data \\\n",
    "    --language {language}\"\"\"\n",
    "    \n",
    "    print(\"\\nCommand to prepare data:\")\n",
    "    print(cmd)\n",
    "    \n",
    "    # Note: In a real notebook, you might want to run this command\n",
    "    # using !{cmd} or a subprocess call"
   ]
  }
 ],
 "metadata": {
  "kernelspec": {
   "display_name": "Python 3",
   "language": "python",
   "name": "python3"
  },
  "language_info": {
   "codemirror_mode": {
    "name": "ipython",
    "version": 3
   },
   "file_extension": ".py",
   "mimetype": "text/x-python",
   "name": "python",
   "nbconvert_exporter": "python",
   "pygments_lexer": "ipython3",
   "version": "3.8.10"
  }
 },
 "nbformat": 4,
 "nbformat_minor": 4
}
