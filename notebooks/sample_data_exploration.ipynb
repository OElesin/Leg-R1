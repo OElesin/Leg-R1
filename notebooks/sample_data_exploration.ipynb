{
 "cells": [
  {
   "cell_type": "markdown",
   "metadata": {},
   "source": [
    "# German Legal Data Exploration\n",
    "\n",
    "This notebook explores the sample German court decisions downloaded from www.rechtsprechung-im-internet.de."
   ]
  },
  {
   "cell_type": "code",
   "execution_count": 1,
   "metadata": {},
   "outputs": [
    {
     "name": "stderr",
     "output_type": "stream",
     "text": [
      "Matplotlib is building the font cache; this may take a moment.\n"
     ]
    }
   ],
   "source": [
    "import os\n",
    "import json\n",
    "import pandas as pd\n",
    "import matplotlib.pyplot as plt\n",
    "import seaborn as sns\n",
    "from IPython.display import display, HTML"
   ]
  },
  {
   "cell_type": "markdown",
   "metadata": {},
   "source": [
    "## Load Processed Data"
   ]
  },
  {
   "cell_type": "code",
   "execution_count": 2,
   "metadata": {},
   "outputs": [
    {
     "name": "stdout",
     "output_type": "stream",
     "text": [
      "Loaded 5 processed documents\n"
     ]
    }
   ],
   "source": [
    "# Path to processed data\n",
    "processed_dir = \"../data/german/processed\"\n",
    "\n",
    "# Load all JSON files\n",
    "processed_docs = []\n",
    "for filename in os.listdir(processed_dir):\n",
    "    if filename.endswith('.json'):\n",
    "        with open(os.path.join(processed_dir, filename), 'r', encoding='utf-8') as f:\n",
    "            doc = json.load(f)\n",
    "            processed_docs.append(doc)\n",
    "\n",
    "print(f\"Loaded {len(processed_docs)} processed documents\")"
   ]
  },
  {
   "cell_type": "markdown",
   "metadata": {},
   "source": [
    "## Analyze Metadata"
   ]
  },
  {
   "cell_type": "code",
   "execution_count": 3,
   "metadata": {},
   "outputs": [
    {
     "data": {
      "text/html": [
       "<div>\n",
       "<style scoped>\n",
       "    .dataframe tbody tr th:only-of-type {\n",
       "        vertical-align: middle;\n",
       "    }\n",
       "\n",
       "    .dataframe tbody tr th {\n",
       "        vertical-align: top;\n",
       "    }\n",
       "\n",
       "    .dataframe thead th {\n",
       "        text-align: right;\n",
       "    }\n",
       "</style>\n",
       "<table border=\"1\" class=\"dataframe\">\n",
       "  <thead>\n",
       "    <tr style=\"text-align: right;\">\n",
       "      <th></th>\n",
       "      <th>court</th>\n",
       "      <th>date</th>\n",
       "      <th>case_number</th>\n",
       "      <th>link</th>\n",
       "      <th>text_length</th>\n",
       "      <th>num_sections</th>\n",
       "    </tr>\n",
       "  </thead>\n",
       "  <tbody>\n",
       "    <tr>\n",
       "      <th>0</th>\n",
       "      <td>BGH 9. Zivilsenat</td>\n",
       "      <td>20100114</td>\n",
       "      <td>IX ZB 72/08</td>\n",
       "      <td>http://www.rechtsprechung-im-internet.de/jport...</td>\n",
       "      <td>4687</td>\n",
       "      <td>2</td>\n",
       "    </tr>\n",
       "    <tr>\n",
       "      <th>1</th>\n",
       "      <td>BGH 2. Strafsenat</td>\n",
       "      <td>20100113</td>\n",
       "      <td>2 ARs 569/09</td>\n",
       "      <td>http://www.rechtsprechung-im-internet.de/jport...</td>\n",
       "      <td>1046</td>\n",
       "      <td>1</td>\n",
       "    </tr>\n",
       "    <tr>\n",
       "      <th>2</th>\n",
       "      <td>BGH 2. Strafsenat</td>\n",
       "      <td>20100113</td>\n",
       "      <td>2 StR 428/09</td>\n",
       "      <td>http://www.rechtsprechung-im-internet.de/jport...</td>\n",
       "      <td>10680</td>\n",
       "      <td>1</td>\n",
       "    </tr>\n",
       "    <tr>\n",
       "      <th>3</th>\n",
       "      <td>BGH 2. Strafsenat</td>\n",
       "      <td>20100113</td>\n",
       "      <td>2 StR 447/09</td>\n",
       "      <td>http://www.rechtsprechung-im-internet.de/jport...</td>\n",
       "      <td>3455</td>\n",
       "      <td>1</td>\n",
       "    </tr>\n",
       "    <tr>\n",
       "      <th>4</th>\n",
       "      <td>BGH 9. Zivilsenat</td>\n",
       "      <td>20100114</td>\n",
       "      <td>IX ZB 76/09</td>\n",
       "      <td>http://www.rechtsprechung-im-internet.de/jport...</td>\n",
       "      <td>4736</td>\n",
       "      <td>2</td>\n",
       "    </tr>\n",
       "  </tbody>\n",
       "</table>\n",
       "</div>"
      ],
      "text/plain": [
       "               court      date   case_number  \\\n",
       "0  BGH 9. Zivilsenat  20100114   IX ZB 72/08   \n",
       "1  BGH 2. Strafsenat  20100113  2 ARs 569/09   \n",
       "2  BGH 2. Strafsenat  20100113  2 StR 428/09   \n",
       "3  BGH 2. Strafsenat  20100113  2 StR 447/09   \n",
       "4  BGH 9. Zivilsenat  20100114   IX ZB 76/09   \n",
       "\n",
       "                                                link  text_length  \\\n",
       "0  http://www.rechtsprechung-im-internet.de/jport...         4687   \n",
       "1  http://www.rechtsprechung-im-internet.de/jport...         1046   \n",
       "2  http://www.rechtsprechung-im-internet.de/jport...        10680   \n",
       "3  http://www.rechtsprechung-im-internet.de/jport...         3455   \n",
       "4  http://www.rechtsprechung-im-internet.de/jport...         4736   \n",
       "\n",
       "   num_sections  \n",
       "0             2  \n",
       "1             1  \n",
       "2             1  \n",
       "3             1  \n",
       "4             2  "
      ]
     },
     "metadata": {},
     "output_type": "display_data"
    }
   ],
   "source": [
    "# Extract metadata into a DataFrame\n",
    "metadata_list = []\n",
    "for doc in processed_docs:\n",
    "    metadata = doc['metadata']\n",
    "    metadata['text_length'] = len(doc['full_text'])\n",
    "    metadata['num_sections'] = len(doc['sections'])\n",
    "    metadata_list.append(metadata)\n",
    "\n",
    "df = pd.DataFrame(metadata_list)\n",
    "display(df.head())"
   ]
  },
  {
   "cell_type": "markdown",
   "metadata": {},
   "source": [
    "## Document Statistics"
   ]
  },
  {
   "cell_type": "code",
   "execution_count": 4,
   "metadata": {},
   "outputs": [
    {
     "name": "stdout",
     "output_type": "stream",
     "text": [
      "Text length statistics:\n",
      "count        5.000000\n",
      "mean      4920.800000\n",
      "std       3550.346561\n",
      "min       1046.000000\n",
      "25%       3455.000000\n",
      "50%       4687.000000\n",
      "75%       4736.000000\n",
      "max      10680.000000\n",
      "Name: text_length, dtype: float64\n"
     ]
    },
    {
     "data": {
      "image/png": "[encoded data removed]",
      "text/plain": [
       "<Figure size 1000x600 with 1 Axes>"
      ]
     },
     "metadata": {},
     "output_type": "display_data"
    }
   ],
   "source": [
    "# Text length statistics\n",
    "print(\"Text length statistics:\")\n",
    "print(df['text_length'].describe())\n",
    "\n",
    "# Plot text length distribution\n",
    "plt.figure(figsize=(10, 6))\n",
    "sns.histplot(df['text_length'], bins=20)\n",
    "plt.title('Document Length Distribution')\n",
    "plt.xlabel('Text Length (characters)')\n",
    "plt.ylabel('Count')\n",
    "plt.show()"
   ]
  },
  {
   "cell_type": "markdown",
   "metadata": {},
   "source": [
    "## Document Sections"
   ]
  },
  {
   "cell_type": "code",
   "execution_count": 5,
   "metadata": {},
   "outputs": [
    {
     "data": {
      "image/png": "[encoded data removed]",
      "text/plain": [
       "<Figure size 1000x600 with 1 Axes>"
      ]
     },
     "metadata": {},
     "output_type": "display_data"
    }
   ],
   "source": [
    "# Count which sections are present\n",
    "section_counts = {}\n",
    "for doc in processed_docs:\n",
    "    for section_name in doc['sections']:\n",
    "        section_counts[section_name] = section_counts.get(section_name, 0) + 1\n",
    "\n",
    "# Plot section distribution\n",
    "plt.figure(figsize=(10, 6))\n",
    "sns.barplot(x=list(section_counts.keys()), y=list(section_counts.values()))\n",
    "plt.title('Document Sections Distribution')\n",
    "plt.xlabel('Section Name')\n",
    "plt.ylabel('Count')\n",
    "plt.xticks(rotation=45)\n",
    "plt.show()"
   ]
  },
  {
   "cell_type": "markdown",
   "metadata": {},
   "source": [
    "## Explore Formatted Examples"
   ]
  },
  {
   "cell_type": "code",
   "execution_count": 6,
   "metadata": {},
   "outputs": [
    {
     "name": "stdout",
     "output_type": "stream",
     "text": [
      "Loaded 20 formatted examples\n"
     ]
    }
   ],
   "source": [
    "# Load all JSONL files\n",
    "formatted_examples = []\n",
    "all_examples_path = os.path.join(processed_dir, 'all_examples.jsonl')\n",
    "\n",
    "if os.path.exists(all_examples_path):\n",
    "    with open(all_examples_path, 'r', encoding='utf-8') as f:\n",
    "        for line in f:\n",
    "            example = json.loads(line)\n",
    "            formatted_examples.append(example)\n",
    "\n",
    "print(f\"Loaded {len(formatted_examples)} formatted examples\")"
   ]
  },
  {
   "cell_type": "code",
   "execution_count": 7,
   "metadata": {},
   "outputs": [
    {
     "name": "stdout",
     "output_type": "stream",
     "text": [
      "classification: 5 examples\n",
      "summarization: 5 examples\n",
      "case_analysis: 5 examples\n",
      "statute_interpretation: 5 examples\n"
     ]
    }
   ],
   "source": [
    "# Group examples by task\n",
    "task_examples = {}\n",
    "for example in formatted_examples:\n",
    "    task = example['metadata']['task']\n",
    "    if task not in task_examples:\n",
    "        task_examples[task] = []\n",
    "    task_examples[task].append(example)\n",
    "\n",
    "# Print count by task\n",
    "for task, examples in task_examples.items():\n",
    "    print(f\"{task}: {len(examples)} examples\")"
   ]
  },
  {
   "cell_type": "markdown",
   "metadata": {},
   "source": [
    "## Display Sample Formatted Example"
   ]
  },
  {
   "cell_type": "code",
   "execution_count": 8,
   "metadata": {},
   "outputs": [
    {
     "name": "stdout",
     "output_type": "stream",
     "text": [
      "Sample Case Analysis Example:\n",
      "\n",
      "System Message:\n",
      "Du bist ein juristischer Assistent, der auf die Analyse deutscher Rechtsdokumente spezialisiert ist.\n",
      "\n",
      "User Instruction (truncated):\n",
      "Analysiere den folgenden Rechtsfall und erläutere die rechtlichen Grundlagen der Entscheidung.\n",
      "\n",
      "JURE100055033 BGH 9. Zivilsenat 20100114 IX ZB 72/08 Beschluss § 4 InsO, § 13 ZPO, § 251 ZPO vorgehend LG Aachen, 17. März 2008, Az: 6 T 104/07, Beschluss vorgehend AG Aachen, 13. Februar 2007, Az: 92 IN 9/07 DEU Bundesrepublik Deutschland Insolvenzverfahren: Anwendbarkeit der Vorschrift über das Ruhen des Verfahrens; Beschwerderecht des Insolvenzverwalters im Zusammenhang mit der Verfahrenseröffnung ...\n",
      "\n",
      "Assistant Response Template:\n",
      "Analyse:\n",
      "{analysis}\n",
      "\n",
      "Rechtliche Grundlagen:\n",
      "{legal_basis}\n",
      "\n",
      "Schlussfolgerung:\n",
      "{conclusion}\n",
      "\n",
      "Metadata:\n",
      "document_type: unknown\n",
      "court: BGH 9. Zivilsenat\n",
      "date: 20100114\n",
      "case_number: IX ZB 72/08\n",
      "language: de\n",
      "task: case_analysis\n",
      "source: rechtsprechung-im-internet\n"
     ]
    }
   ],
   "source": [
    "# Display a sample example for case analysis\n",
    "if 'case_analysis' in task_examples and task_examples['case_analysis']:\n",
    "    sample = task_examples['case_analysis'][0]\n",
    "    \n",
    "    print(\"Sample Case Analysis Example:\")\n",
    "    print(\"\\nSystem Message:\")\n",
    "    print(sample['conversations'][0]['content'])\n",
    "    \n",
    "    print(\"\\nUser Instruction (truncated):\")\n",
    "    user_content = sample['conversations'][1]['content']\n",
    "    print(user_content[:500] + \"...\")\n",
    "    \n",
    "    print(\"\\nAssistant Response Template:\")\n",
    "    print(sample['conversations'][2]['content'])\n",
    "    \n",
    "    print(\"\\nMetadata:\")\n",
    "    for key, value in sample['metadata'].items():\n",
    "        print(f\"{key}: {value}\")"
   ]
  },
  {
   "cell_type": "markdown",
   "metadata": {},
   "source": [
    "## Conclusion\n",
    "\n",
    "This notebook has explored the sample German court decisions downloaded from www.rechtsprechung-im-internet.de and formatted for the Qwen2.5-7B-Instruct model. The data is now ready for fine-tuning the Legal Reasoning Model."
   ]
  }
 ],
 "metadata": {
  "kernelspec": {
   "display_name": "venv",
   "language": "python",
   "name": "python3"
  },
  "language_info": {
   "codemirror_mode": {
    "name": "ipython",
    "version": 3
   },
   "file_extension": ".py",
   "mimetype": "text/x-python",
   "name": "python",
   "nbconvert_exporter": "python",
   "pygments_lexer": "ipython3",
   "version": "3.9.5"
  }
 },
 "nbformat": 4,
 "nbformat_minor": 4
}
